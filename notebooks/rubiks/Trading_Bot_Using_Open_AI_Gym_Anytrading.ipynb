{
  "nbformat": 4,
  "nbformat_minor": 0,
  "metadata": {
    "colab": {
      "name": "Trading Bot Using Open AI Gym Anytrading.ipynb",
      "provenance": [],
      "collapsed_sections": []
    },
    "kernelspec": {
      "name": "python3",
      "display_name": "Python 3"
    },
    "language_info": {
      "name": "python"
    },
    "accelerator": "GPU"
  },
  "cells": [
    {
      "cell_type": "markdown",
      "metadata": {
        "id": "JC1jjqbULmR1"
      },
      "source": [
        "## AnyTrading environment for reinforcement learning\n",
        "\n",
        "### https://github.com/AminHP/gym-anytrading"
      ]
    },
    {
      "cell_type": "markdown",
      "metadata": {
        "id": "GgiTZBOvL6wU"
      },
      "source": [
        "* Trading Actions: only Sell=0 and Buy=1\n",
        "* Trading Positions:  only Short=0 and Long=1"
      ]
    },
    {
      "cell_type": "code",
      "metadata": {
        "colab": {
          "base_uri": "https://localhost:8080/"
        },
        "id": "B0ZY4hbi4h2s",
        "outputId": "bca10a2e-6b87-4924-ee6e-0b2d0632cb04"
      },
      "source": [
        "!pip install tensorflow-gpu==1.15.0 tensorflow==1.15.0 stable-baselines gym-anytrading gym"
      ],
      "execution_count": 1,
      "outputs": [
        {
          "output_type": "stream",
          "text": [
            "Collecting tensorflow-gpu==1.15.0\n",
            "  Downloading tensorflow_gpu-1.15.0-cp37-cp37m-manylinux2010_x86_64.whl (411.5 MB)\n",
            "\u001b[K     |████████████████████████████████| 411.5 MB 7.8 kB/s \n",
            "\u001b[?25hCollecting tensorflow==1.15.0\n",
            "  Downloading tensorflow-1.15.0-cp37-cp37m-manylinux2010_x86_64.whl (412.3 MB)\n",
            "\u001b[K     |████████████████████████████████| 412.3 MB 28 kB/s \n",
            "\u001b[?25hCollecting stable-baselines\n",
            "  Downloading stable_baselines-2.10.2-py3-none-any.whl (240 kB)\n",
            "\u001b[K     |████████████████████████████████| 240 kB 67.4 MB/s \n",
            "\u001b[?25hCollecting gym-anytrading\n",
            "  Downloading gym_anytrading-1.2.0-py3-none-any.whl (171 kB)\n",
            "\u001b[K     |████████████████████████████████| 171 kB 72.7 MB/s \n",
            "\u001b[?25hRequirement already satisfied: gym in /usr/local/lib/python3.7/dist-packages (0.17.3)\n",
            "Requirement already satisfied: wheel>=0.26 in /usr/local/lib/python3.7/dist-packages (from tensorflow-gpu==1.15.0) (0.37.0)\n",
            "Requirement already satisfied: termcolor>=1.1.0 in /usr/local/lib/python3.7/dist-packages (from tensorflow-gpu==1.15.0) (1.1.0)\n",
            "Requirement already satisfied: opt-einsum>=2.3.2 in /usr/local/lib/python3.7/dist-packages (from tensorflow-gpu==1.15.0) (3.3.0)\n",
            "Requirement already satisfied: keras-preprocessing>=1.0.5 in /usr/local/lib/python3.7/dist-packages (from tensorflow-gpu==1.15.0) (1.1.2)\n",
            "Collecting tensorflow-estimator==1.15.1\n",
            "  Downloading tensorflow_estimator-1.15.1-py2.py3-none-any.whl (503 kB)\n",
            "\u001b[K     |████████████████████████████████| 503 kB 64.7 MB/s \n",
            "\u001b[?25hRequirement already satisfied: absl-py>=0.7.0 in /usr/local/lib/python3.7/dist-packages (from tensorflow-gpu==1.15.0) (0.12.0)\n",
            "Collecting keras-applications>=1.0.8\n",
            "  Downloading Keras_Applications-1.0.8-py3-none-any.whl (50 kB)\n",
            "\u001b[K     |████████████████████████████████| 50 kB 8.4 MB/s \n",
            "\u001b[?25hRequirement already satisfied: grpcio>=1.8.6 in /usr/local/lib/python3.7/dist-packages (from tensorflow-gpu==1.15.0) (1.34.1)\n",
            "Collecting tensorboard<1.16.0,>=1.15.0\n",
            "  Downloading tensorboard-1.15.0-py3-none-any.whl (3.8 MB)\n",
            "\u001b[K     |████████████████████████████████| 3.8 MB 56.9 MB/s \n",
            "\u001b[?25hRequirement already satisfied: astor>=0.6.0 in /usr/local/lib/python3.7/dist-packages (from tensorflow-gpu==1.15.0) (0.8.1)\n",
            "Requirement already satisfied: google-pasta>=0.1.6 in /usr/local/lib/python3.7/dist-packages (from tensorflow-gpu==1.15.0) (0.2.0)\n",
            "Requirement already satisfied: numpy<2.0,>=1.16.0 in /usr/local/lib/python3.7/dist-packages (from tensorflow-gpu==1.15.0) (1.19.5)\n",
            "Collecting gast==0.2.2\n",
            "  Downloading gast-0.2.2.tar.gz (10 kB)\n",
            "Requirement already satisfied: six>=1.10.0 in /usr/local/lib/python3.7/dist-packages (from tensorflow-gpu==1.15.0) (1.15.0)\n",
            "Requirement already satisfied: wrapt>=1.11.1 in /usr/local/lib/python3.7/dist-packages (from tensorflow-gpu==1.15.0) (1.12.1)\n",
            "Requirement already satisfied: protobuf>=3.6.1 in /usr/local/lib/python3.7/dist-packages (from tensorflow-gpu==1.15.0) (3.17.3)\n",
            "Requirement already satisfied: h5py in /usr/local/lib/python3.7/dist-packages (from keras-applications>=1.0.8->tensorflow-gpu==1.15.0) (3.1.0)\n",
            "Requirement already satisfied: markdown>=2.6.8 in /usr/local/lib/python3.7/dist-packages (from tensorboard<1.16.0,>=1.15.0->tensorflow-gpu==1.15.0) (3.3.4)\n",
            "Requirement already satisfied: setuptools>=41.0.0 in /usr/local/lib/python3.7/dist-packages (from tensorboard<1.16.0,>=1.15.0->tensorflow-gpu==1.15.0) (57.2.0)\n",
            "Requirement already satisfied: werkzeug>=0.11.15 in /usr/local/lib/python3.7/dist-packages (from tensorboard<1.16.0,>=1.15.0->tensorflow-gpu==1.15.0) (1.0.1)\n",
            "Requirement already satisfied: importlib-metadata in /usr/local/lib/python3.7/dist-packages (from markdown>=2.6.8->tensorboard<1.16.0,>=1.15.0->tensorflow-gpu==1.15.0) (4.6.3)\n",
            "Requirement already satisfied: matplotlib in /usr/local/lib/python3.7/dist-packages (from stable-baselines) (3.2.2)\n",
            "Requirement already satisfied: cloudpickle>=0.5.5 in /usr/local/lib/python3.7/dist-packages (from stable-baselines) (1.3.0)\n",
            "Requirement already satisfied: scipy in /usr/local/lib/python3.7/dist-packages (from stable-baselines) (1.4.1)\n",
            "Requirement already satisfied: opencv-python in /usr/local/lib/python3.7/dist-packages (from stable-baselines) (4.1.2.30)\n",
            "Requirement already satisfied: joblib in /usr/local/lib/python3.7/dist-packages (from stable-baselines) (1.0.1)\n",
            "Requirement already satisfied: pandas in /usr/local/lib/python3.7/dist-packages (from stable-baselines) (1.1.5)\n",
            "Requirement already satisfied: pyglet<=1.5.0,>=1.4.0 in /usr/local/lib/python3.7/dist-packages (from gym) (1.5.0)\n",
            "Requirement already satisfied: atari-py~=0.2.0 in /usr/local/lib/python3.7/dist-packages (from gym) (0.2.9)\n",
            "Requirement already satisfied: Pillow in /usr/local/lib/python3.7/dist-packages (from gym) (7.1.2)\n",
            "Requirement already satisfied: future in /usr/local/lib/python3.7/dist-packages (from pyglet<=1.5.0,>=1.4.0->gym) (0.16.0)\n",
            "Requirement already satisfied: kiwisolver>=1.0.1 in /usr/local/lib/python3.7/dist-packages (from matplotlib->stable-baselines) (1.3.1)\n",
            "Requirement already satisfied: cycler>=0.10 in /usr/local/lib/python3.7/dist-packages (from matplotlib->stable-baselines) (0.10.0)\n",
            "Requirement already satisfied: pyparsing!=2.0.4,!=2.1.2,!=2.1.6,>=2.0.1 in /usr/local/lib/python3.7/dist-packages (from matplotlib->stable-baselines) (2.4.7)\n",
            "Requirement already satisfied: python-dateutil>=2.1 in /usr/local/lib/python3.7/dist-packages (from matplotlib->stable-baselines) (2.8.2)\n",
            "Requirement already satisfied: pytz>=2017.2 in /usr/local/lib/python3.7/dist-packages (from pandas->stable-baselines) (2018.9)\n",
            "Requirement already satisfied: cached-property in /usr/local/lib/python3.7/dist-packages (from h5py->keras-applications>=1.0.8->tensorflow-gpu==1.15.0) (1.5.2)\n",
            "Requirement already satisfied: zipp>=0.5 in /usr/local/lib/python3.7/dist-packages (from importlib-metadata->markdown>=2.6.8->tensorboard<1.16.0,>=1.15.0->tensorflow-gpu==1.15.0) (3.5.0)\n",
            "Requirement already satisfied: typing-extensions>=3.6.4 in /usr/local/lib/python3.7/dist-packages (from importlib-metadata->markdown>=2.6.8->tensorboard<1.16.0,>=1.15.0->tensorflow-gpu==1.15.0) (3.7.4.3)\n",
            "Building wheels for collected packages: gast\n",
            "  Building wheel for gast (setup.py) ... \u001b[?25l\u001b[?25hdone\n",
            "  Created wheel for gast: filename=gast-0.2.2-py3-none-any.whl size=7554 sha256=b9e2b86149f21d77c6583cc8e1b4b9abcdf2edd6cfe8e33917c3811a96b6c113\n",
            "  Stored in directory: /root/.cache/pip/wheels/21/7f/02/420f32a803f7d0967b48dd823da3f558c5166991bfd204eef3\n",
            "Successfully built gast\n",
            "Installing collected packages: tensorflow-estimator, tensorboard, keras-applications, gast, tensorflow-gpu, tensorflow, stable-baselines, gym-anytrading\n",
            "  Attempting uninstall: tensorflow-estimator\n",
            "    Found existing installation: tensorflow-estimator 2.5.0\n",
            "    Uninstalling tensorflow-estimator-2.5.0:\n",
            "      Successfully uninstalled tensorflow-estimator-2.5.0\n",
            "  Attempting uninstall: tensorboard\n",
            "    Found existing installation: tensorboard 2.5.0\n",
            "    Uninstalling tensorboard-2.5.0:\n",
            "      Successfully uninstalled tensorboard-2.5.0\n",
            "  Attempting uninstall: gast\n",
            "    Found existing installation: gast 0.4.0\n",
            "    Uninstalling gast-0.4.0:\n",
            "      Successfully uninstalled gast-0.4.0\n",
            "  Attempting uninstall: tensorflow\n",
            "    Found existing installation: tensorflow 2.5.0\n",
            "    Uninstalling tensorflow-2.5.0:\n",
            "      Successfully uninstalled tensorflow-2.5.0\n",
            "\u001b[31mERROR: pip's dependency resolver does not currently take into account all the packages that are installed. This behaviour is the source of the following dependency conflicts.\n",
            "tensorflow-probability 0.13.0 requires gast>=0.3.2, but you have gast 0.2.2 which is incompatible.\n",
            "kapre 0.3.5 requires tensorflow>=2.0.0, but you have tensorflow 1.15.0 which is incompatible.\u001b[0m\n",
            "Successfully installed gast-0.2.2 gym-anytrading-1.2.0 keras-applications-1.0.8 stable-baselines-2.10.2 tensorboard-1.15.0 tensorflow-1.15.0 tensorflow-estimator-1.15.1 tensorflow-gpu-1.15.0\n"
          ],
          "name": "stdout"
        }
      ]
    },
    {
      "cell_type": "code",
      "metadata": {
        "colab": {
          "base_uri": "https://localhost:8080/"
        },
        "id": "StVEQ3E_4khQ",
        "outputId": "4fdc4b24-d39c-485f-8d3c-649fbc29b5e4"
      },
      "source": [
        "# Importing Dependencies\n",
        "import gym\n",
        "import gym_anytrading\n",
        "\n",
        "# Stable baselines - rl stuff\n",
        "from stable_baselines.common.vec_env import DummyVecEnv\n",
        "from stable_baselines import A2C\n",
        "\n",
        "# Processing libraries\n",
        "import numpy as np\n",
        "import pandas as pd\n",
        "from matplotlib import pyplot as plt"
      ],
      "execution_count": 2,
      "outputs": [
        {
          "output_type": "stream",
          "text": [
            "WARNING:tensorflow:\n",
            "The TensorFlow contrib module will not be included in TensorFlow 2.0.\n",
            "For more information, please see:\n",
            "  * https://github.com/tensorflow/community/blob/master/rfcs/20180907-contrib-sunset.md\n",
            "  * https://github.com/tensorflow/addons\n",
            "  * https://github.com/tensorflow/io (for I/O related ops)\n",
            "If you depend on functionality not listed there, please file an issue.\n",
            "\n"
          ],
          "name": "stdout"
        },
        {
          "output_type": "stream",
          "text": [
            "/usr/local/lib/python3.7/dist-packages/stable_baselines/__init__.py:33: UserWarning: stable-baselines is in maintenance mode, please use [Stable-Baselines3 (SB3)](https://github.com/DLR-RM/stable-baselines3) for an up-to-date version. You can find a [migration guide](https://stable-baselines3.readthedocs.io/en/master/guide/migration.html) in SB3 documentation.\n",
            "  \"stable-baselines is in maintenance mode, please use [Stable-Baselines3 (SB3)](https://github.com/DLR-RM/stable-baselines3) for an up-to-date version. You can find a [migration guide](https://stable-baselines3.readthedocs.io/en/master/guide/migration.html) in SB3 documentation.\"\n"
          ],
          "name": "stderr"
        }
      ]
    },
    {
      "cell_type": "markdown",
      "metadata": {
        "id": "xsrWeIeWKdbJ"
      },
      "source": [
        "# fetch datasets"
      ]
    },
    {
      "cell_type": "code",
      "metadata": {
        "colab": {
          "base_uri": "https://localhost:8080/"
        },
        "id": "ymEYbjfJKhV5",
        "outputId": "49e29f5f-7bf9-4d63-e876-bb32b750331c"
      },
      "source": [
        "#!wget -O trade.csv \"https://query1.finance.yahoo.com/v7/finance/download/DOGE-USD?period1=1597520308&period2=1629056308&interval=1d&events=history&includeAdjustedClose=true\""
      ],
      "execution_count": 3,
      "outputs": [
        {
          "output_type": "stream",
          "text": [
            "--2021-08-16 13:34:24--  https://query1.finance.yahoo.com/v7/finance/download/DOGE-USD?period1=1597520308&period2=1629056308&interval=1d&events=history&includeAdjustedClose=true\n",
            "Resolving query1.finance.yahoo.com (query1.finance.yahoo.com)... 69.147.80.15, 69.147.80.12, 2001:4998:64:800::6000, ...\n",
            "Connecting to query1.finance.yahoo.com (query1.finance.yahoo.com)|69.147.80.15|:443... connected.\n",
            "HTTP request sent, awaiting response... 403 Forbidden\n",
            "2021-08-16 13:34:24 ERROR 403: Forbidden.\n",
            "\n"
          ],
          "name": "stdout"
        }
      ]
    },
    {
      "cell_type": "code",
      "metadata": {
        "id": "0IFOMOCf4kYS"
      },
      "source": [
        "#loading our dataset\n",
        "file=\"/content/DOGE-USD.csv\"\n",
        "df = pd.read_csv(file)"
      ],
      "execution_count": 4,
      "outputs": []
    },
    {
      "cell_type": "code",
      "metadata": {
        "colab": {
          "base_uri": "https://localhost:8080/",
          "height": 205
        },
        "id": "PgzDlso24kV5",
        "outputId": "fac1984f-09df-4d81-af40-f249bf3df457"
      },
      "source": [
        "#viewing first 5 columns\n",
        "df.head()"
      ],
      "execution_count": 5,
      "outputs": [
        {
          "output_type": "execute_result",
          "data": {
            "text/html": [
              "<div>\n",
              "<style scoped>\n",
              "    .dataframe tbody tr th:only-of-type {\n",
              "        vertical-align: middle;\n",
              "    }\n",
              "\n",
              "    .dataframe tbody tr th {\n",
              "        vertical-align: top;\n",
              "    }\n",
              "\n",
              "    .dataframe thead th {\n",
              "        text-align: right;\n",
              "    }\n",
              "</style>\n",
              "<table border=\"1\" class=\"dataframe\">\n",
              "  <thead>\n",
              "    <tr style=\"text-align: right;\">\n",
              "      <th></th>\n",
              "      <th>Date</th>\n",
              "      <th>Open</th>\n",
              "      <th>High</th>\n",
              "      <th>Low</th>\n",
              "      <th>Close</th>\n",
              "      <th>Adj Close</th>\n",
              "      <th>Volume</th>\n",
              "    </tr>\n",
              "  </thead>\n",
              "  <tbody>\n",
              "    <tr>\n",
              "      <th>0</th>\n",
              "      <td>2020-08-15</td>\n",
              "      <td>0.003563</td>\n",
              "      <td>0.003607</td>\n",
              "      <td>0.003500</td>\n",
              "      <td>0.003539</td>\n",
              "      <td>0.003539</td>\n",
              "      <td>64309678.0</td>\n",
              "    </tr>\n",
              "    <tr>\n",
              "      <th>1</th>\n",
              "      <td>2020-08-16</td>\n",
              "      <td>0.003540</td>\n",
              "      <td>0.003552</td>\n",
              "      <td>0.003469</td>\n",
              "      <td>0.003524</td>\n",
              "      <td>0.003524</td>\n",
              "      <td>52637926.0</td>\n",
              "    </tr>\n",
              "    <tr>\n",
              "      <th>2</th>\n",
              "      <td>2020-08-17</td>\n",
              "      <td>0.003524</td>\n",
              "      <td>0.003718</td>\n",
              "      <td>0.003500</td>\n",
              "      <td>0.003591</td>\n",
              "      <td>0.003591</td>\n",
              "      <td>77628715.0</td>\n",
              "    </tr>\n",
              "    <tr>\n",
              "      <th>3</th>\n",
              "      <td>2020-08-18</td>\n",
              "      <td>0.003593</td>\n",
              "      <td>0.003709</td>\n",
              "      <td>0.003483</td>\n",
              "      <td>0.003514</td>\n",
              "      <td>0.003514</td>\n",
              "      <td>62570291.0</td>\n",
              "    </tr>\n",
              "    <tr>\n",
              "      <th>4</th>\n",
              "      <td>2020-08-19</td>\n",
              "      <td>0.003508</td>\n",
              "      <td>0.003538</td>\n",
              "      <td>0.003368</td>\n",
              "      <td>0.003424</td>\n",
              "      <td>0.003424</td>\n",
              "      <td>53306857.0</td>\n",
              "    </tr>\n",
              "  </tbody>\n",
              "</table>\n",
              "</div>"
            ],
            "text/plain": [
              "         Date      Open      High       Low     Close  Adj Close      Volume\n",
              "0  2020-08-15  0.003563  0.003607  0.003500  0.003539   0.003539  64309678.0\n",
              "1  2020-08-16  0.003540  0.003552  0.003469  0.003524   0.003524  52637926.0\n",
              "2  2020-08-17  0.003524  0.003718  0.003500  0.003591   0.003591  77628715.0\n",
              "3  2020-08-18  0.003593  0.003709  0.003483  0.003514   0.003514  62570291.0\n",
              "4  2020-08-19  0.003508  0.003538  0.003368  0.003424   0.003424  53306857.0"
            ]
          },
          "metadata": {
            "tags": []
          },
          "execution_count": 5
        }
      ]
    },
    {
      "cell_type": "code",
      "metadata": {
        "colab": {
          "base_uri": "https://localhost:8080/"
        },
        "id": "qSJdICGt4kMF",
        "outputId": "38c662b2-64ad-4266-dafe-90e9ce419f46"
      },
      "source": [
        "#converting Date Column to DateTime Type\n",
        "df['Date'] = pd.to_datetime(df['Date'])\n",
        "df.dtypes"
      ],
      "execution_count": 6,
      "outputs": [
        {
          "output_type": "execute_result",
          "data": {
            "text/plain": [
              "Date         datetime64[ns]\n",
              "Open                float64\n",
              "High                float64\n",
              "Low                 float64\n",
              "Close               float64\n",
              "Adj Close           float64\n",
              "Volume              float64\n",
              "dtype: object"
            ]
          },
          "metadata": {
            "tags": []
          },
          "execution_count": 6
        }
      ]
    },
    {
      "cell_type": "code",
      "metadata": {
        "colab": {
          "base_uri": "https://localhost:8080/",
          "height": 236
        },
        "id": "dxJ3b_oq4kJi",
        "outputId": "f0ba7aad-c63b-4f3b-f156-cbac14425088"
      },
      "source": [
        "#setting the column as index\n",
        "df.set_index('Date', inplace=True)\n",
        "df.head()"
      ],
      "execution_count": 7,
      "outputs": [
        {
          "output_type": "execute_result",
          "data": {
            "text/html": [
              "<div>\n",
              "<style scoped>\n",
              "    .dataframe tbody tr th:only-of-type {\n",
              "        vertical-align: middle;\n",
              "    }\n",
              "\n",
              "    .dataframe tbody tr th {\n",
              "        vertical-align: top;\n",
              "    }\n",
              "\n",
              "    .dataframe thead th {\n",
              "        text-align: right;\n",
              "    }\n",
              "</style>\n",
              "<table border=\"1\" class=\"dataframe\">\n",
              "  <thead>\n",
              "    <tr style=\"text-align: right;\">\n",
              "      <th></th>\n",
              "      <th>Open</th>\n",
              "      <th>High</th>\n",
              "      <th>Low</th>\n",
              "      <th>Close</th>\n",
              "      <th>Adj Close</th>\n",
              "      <th>Volume</th>\n",
              "    </tr>\n",
              "    <tr>\n",
              "      <th>Date</th>\n",
              "      <th></th>\n",
              "      <th></th>\n",
              "      <th></th>\n",
              "      <th></th>\n",
              "      <th></th>\n",
              "      <th></th>\n",
              "    </tr>\n",
              "  </thead>\n",
              "  <tbody>\n",
              "    <tr>\n",
              "      <th>2020-08-15</th>\n",
              "      <td>0.003563</td>\n",
              "      <td>0.003607</td>\n",
              "      <td>0.003500</td>\n",
              "      <td>0.003539</td>\n",
              "      <td>0.003539</td>\n",
              "      <td>64309678.0</td>\n",
              "    </tr>\n",
              "    <tr>\n",
              "      <th>2020-08-16</th>\n",
              "      <td>0.003540</td>\n",
              "      <td>0.003552</td>\n",
              "      <td>0.003469</td>\n",
              "      <td>0.003524</td>\n",
              "      <td>0.003524</td>\n",
              "      <td>52637926.0</td>\n",
              "    </tr>\n",
              "    <tr>\n",
              "      <th>2020-08-17</th>\n",
              "      <td>0.003524</td>\n",
              "      <td>0.003718</td>\n",
              "      <td>0.003500</td>\n",
              "      <td>0.003591</td>\n",
              "      <td>0.003591</td>\n",
              "      <td>77628715.0</td>\n",
              "    </tr>\n",
              "    <tr>\n",
              "      <th>2020-08-18</th>\n",
              "      <td>0.003593</td>\n",
              "      <td>0.003709</td>\n",
              "      <td>0.003483</td>\n",
              "      <td>0.003514</td>\n",
              "      <td>0.003514</td>\n",
              "      <td>62570291.0</td>\n",
              "    </tr>\n",
              "    <tr>\n",
              "      <th>2020-08-19</th>\n",
              "      <td>0.003508</td>\n",
              "      <td>0.003538</td>\n",
              "      <td>0.003368</td>\n",
              "      <td>0.003424</td>\n",
              "      <td>0.003424</td>\n",
              "      <td>53306857.0</td>\n",
              "    </tr>\n",
              "  </tbody>\n",
              "</table>\n",
              "</div>"
            ],
            "text/plain": [
              "                Open      High       Low     Close  Adj Close      Volume\n",
              "Date                                                                     \n",
              "2020-08-15  0.003563  0.003607  0.003500  0.003539   0.003539  64309678.0\n",
              "2020-08-16  0.003540  0.003552  0.003469  0.003524   0.003524  52637926.0\n",
              "2020-08-17  0.003524  0.003718  0.003500  0.003591   0.003591  77628715.0\n",
              "2020-08-18  0.003593  0.003709  0.003483  0.003514   0.003514  62570291.0\n",
              "2020-08-19  0.003508  0.003538  0.003368  0.003424   0.003424  53306857.0"
            ]
          },
          "metadata": {
            "tags": []
          },
          "execution_count": 7
        }
      ]
    },
    {
      "cell_type": "code",
      "metadata": {
        "id": "IF939faq4kGY"
      },
      "source": [
        "#passing the data and creating our environment\n",
        "env = gym.make('stocks-v0', df=df, frame_bound=(5,100), window_size=5)"
      ],
      "execution_count": 8,
      "outputs": []
    },
    {
      "cell_type": "code",
      "metadata": {
        "colab": {
          "base_uri": "https://localhost:8080/"
        },
        "id": "H0Jn4ix14kDx",
        "outputId": "9c321288-ba4b-40b4-92c6-53cbfb5ff2cd"
      },
      "source": [
        "env.signal_features"
      ],
      "execution_count": 9,
      "outputs": [
        {
          "output_type": "execute_result",
          "data": {
            "text/plain": [
              "array([[ 3.539e-03,  0.000e+00],\n",
              "       [ 3.524e-03, -1.500e-05],\n",
              "       [ 3.591e-03,  6.700e-05],\n",
              "       [ 3.514e-03, -7.700e-05],\n",
              "       [ 3.424e-03, -9.000e-05],\n",
              "       [ 3.459e-03,  3.500e-05],\n",
              "       [ 3.393e-03, -6.600e-05],\n",
              "       [ 3.442e-03,  4.900e-05],\n",
              "       [ 3.414e-03, -2.800e-05],\n",
              "       [ 3.418e-03,  4.000e-06],\n",
              "       [ 3.305e-03, -1.130e-04],\n",
              "       [ 3.303e-03, -2.000e-06],\n",
              "       [ 3.203e-03, -1.000e-04],\n",
              "       [ 3.268e-03,  6.500e-05],\n",
              "       [ 3.282e-03,  1.400e-05],\n",
              "       [ 3.300e-03,  1.800e-05],\n",
              "       [ 3.221e-03, -7.900e-05],\n",
              "       [ 3.256e-03,  3.500e-05],\n",
              "       [ 3.122e-03, -1.340e-04],\n",
              "       [ 2.802e-03, -3.200e-04],\n",
              "       [ 2.899e-03,  9.700e-05],\n",
              "       [ 2.758e-03, -1.410e-04],\n",
              "       [ 2.787e-03,  2.900e-05],\n",
              "       [ 2.811e-03,  2.400e-05],\n",
              "       [ 2.756e-03, -5.500e-05],\n",
              "       [ 2.779e-03,  2.300e-05],\n",
              "       [ 2.805e-03,  2.600e-05],\n",
              "       [ 2.806e-03,  1.000e-06],\n",
              "       [ 2.819e-03,  1.300e-05],\n",
              "       [ 2.776e-03, -4.300e-05],\n",
              "       [ 2.803e-03,  2.700e-05],\n",
              "       [ 2.832e-03,  2.900e-05],\n",
              "       [ 2.826e-03, -6.000e-06],\n",
              "       [ 2.814e-03, -1.200e-05],\n",
              "       [ 2.804e-03, -1.000e-05],\n",
              "       [ 2.794e-03, -1.000e-05],\n",
              "       [ 2.778e-03, -1.600e-05],\n",
              "       [ 2.630e-03, -1.480e-04],\n",
              "       [ 2.656e-03,  2.600e-05],\n",
              "       [ 2.564e-03, -9.200e-05],\n",
              "       [ 2.644e-03,  8.000e-05],\n",
              "       [ 2.706e-03,  6.200e-05],\n",
              "       [ 2.708e-03,  2.000e-06],\n",
              "       [ 2.701e-03, -7.000e-06],\n",
              "       [ 2.658e-03, -4.300e-05],\n",
              "       [ 2.681e-03,  2.300e-05],\n",
              "       [ 2.642e-03, -3.900e-05],\n",
              "       [ 2.615e-03, -2.700e-05],\n",
              "       [ 2.584e-03, -3.100e-05],\n",
              "       [ 2.605e-03,  2.100e-05],\n",
              "       [ 2.646e-03,  4.100e-05],\n",
              "       [ 2.627e-03, -1.900e-05],\n",
              "       [ 2.610e-03, -1.700e-05],\n",
              "       [ 2.600e-03, -1.000e-05],\n",
              "       [ 2.603e-03,  3.000e-06],\n",
              "       [       nan,        nan],\n",
              "       [ 2.655e-03,        nan],\n",
              "       [ 2.674e-03,  1.900e-05],\n",
              "       [       nan,        nan],\n",
              "       [       nan,        nan],\n",
              "       [ 2.637e-03,        nan],\n",
              "       [ 2.593e-03, -4.400e-05],\n",
              "       [ 2.612e-03,  1.900e-05],\n",
              "       [ 2.581e-03, -3.100e-05],\n",
              "       [ 2.586e-03,  5.000e-06],\n",
              "       [ 2.590e-03,  4.000e-06],\n",
              "       [ 2.601e-03,  1.100e-05],\n",
              "       [ 2.630e-03,  2.900e-05],\n",
              "       [ 2.655e-03,  2.500e-05],\n",
              "       [ 2.647e-03, -8.000e-06],\n",
              "       [ 2.646e-03, -1.000e-06],\n",
              "       [ 2.653e-03,  7.000e-06],\n",
              "       [ 2.679e-03,  2.600e-05],\n",
              "       [ 2.677e-03, -2.000e-06],\n",
              "       [ 2.595e-03, -8.200e-05],\n",
              "       [ 2.581e-03, -1.400e-05],\n",
              "       [ 2.598e-03,  1.700e-05],\n",
              "       [ 2.576e-03, -2.200e-05],\n",
              "       [ 2.582e-03,  6.000e-06],\n",
              "       [ 2.517e-03, -6.500e-05],\n",
              "       [ 2.528e-03,  1.100e-05],\n",
              "       [ 2.533e-03,  5.000e-06],\n",
              "       [ 2.617e-03,  8.400e-05],\n",
              "       [ 2.760e-03,  1.430e-04],\n",
              "       [ 2.671e-03, -8.900e-05],\n",
              "       [ 2.711e-03,  4.000e-05],\n",
              "       [ 2.670e-03, -4.100e-05],\n",
              "       [ 2.753e-03,  8.300e-05],\n",
              "       [ 2.769e-03,  1.600e-05],\n",
              "       [ 2.779e-03,  1.000e-05],\n",
              "       [ 2.821e-03,  4.200e-05],\n",
              "       [ 2.773e-03, -4.800e-05],\n",
              "       [ 2.775e-03,  2.000e-06],\n",
              "       [ 2.886e-03,  1.110e-04],\n",
              "       [ 2.936e-03,  5.000e-05],\n",
              "       [ 2.909e-03, -2.700e-05],\n",
              "       [ 2.911e-03,  2.000e-06],\n",
              "       [ 2.984e-03,  7.300e-05],\n",
              "       [ 3.507e-03,  5.230e-04],\n",
              "       [ 3.329e-03, -1.780e-04]])"
            ]
          },
          "metadata": {
            "tags": []
          },
          "execution_count": 9
        }
      ]
    },
    {
      "cell_type": "code",
      "metadata": {
        "colab": {
          "base_uri": "https://localhost:8080/"
        },
        "id": "UIyCHXEu4kBB",
        "outputId": "a06be9a9-a7b2-44d9-92f7-22ab2737023d"
      },
      "source": [
        "env.action_space"
      ],
      "execution_count": 10,
      "outputs": [
        {
          "output_type": "execute_result",
          "data": {
            "text/plain": [
              "Discrete(2)"
            ]
          },
          "metadata": {
            "tags": []
          },
          "execution_count": 10
        }
      ]
    },
    {
      "cell_type": "code",
      "metadata": {
        "colab": {
          "base_uri": "https://localhost:8080/",
          "height": 422
        },
        "id": "FPdnbjOF4j-R",
        "outputId": "66cb0343-26ce-4988-cede-369f99287759"
      },
      "source": [
        "#running the test environment\n",
        "state = env.reset()\n",
        "while True: \n",
        "    action = env.action_space.sample()\n",
        "    n_state, reward, done, info = env.step(action)\n",
        "    if done: \n",
        "        print(\"info\", info)\n",
        "        break\n",
        "        \n",
        "plt.figure(figsize=(15,6))\n",
        "plt.cla()\n",
        "env.render_all()\n",
        "plt.show()"
      ],
      "execution_count": 11,
      "outputs": [
        {
          "output_type": "stream",
          "text": [
            "info {'total_reward': 0.0006179999999999996, 'total_profit': 0.8713047172273888, 'position': 1}\n"
          ],
          "name": "stdout"
        },
        {
          "output_type": "display_data",
          "data": {
            "image/png": "[encoded data removed]",
            "text/plain": [
              "<Figure size 1080x432 with 1 Axes>"
            ]
          },
          "metadata": {
            "tags": [],
            "needs_background": "light"
          }
        }
      ]
    },
    {
      "cell_type": "code",
      "metadata": {
        "id": "yrWm_d-x4j7a"
      },
      "source": [
        "#setting up our environment for training \n",
        "env_maker = lambda: gym.make('stocks-v0', df=df, frame_bound=(5,100), window_size=5)\n",
        "env = DummyVecEnv([env_maker])"
      ],
      "execution_count": 12,
      "outputs": []
    },
    {
      "cell_type": "code",
      "metadata": {
        "colab": {
          "base_uri": "https://localhost:8080/"
        },
        "id": "t7QeiN024j4z",
        "outputId": "79e0c776-8db4-46fd-d8c8-9682ebd65b77"
      },
      "source": [
        "#Applying the Trading RL Algorithm\n",
        "model = A2C('MlpLstmPolicy', env, verbose=1) \n",
        "\n",
        "#setting the learning timesteps\n",
        "model.learn(total_timesteps=1000)"
      ],
      "execution_count": 13,
      "outputs": [
        {
          "output_type": "stream",
          "text": [
            "WARNING:tensorflow:From /usr/local/lib/python3.7/dist-packages/stable_baselines/common/tf_util.py:191: The name tf.ConfigProto is deprecated. Please use tf.compat.v1.ConfigProto instead.\n",
            "\n",
            "WARNING:tensorflow:From /usr/local/lib/python3.7/dist-packages/stable_baselines/common/tf_util.py:200: The name tf.Session is deprecated. Please use tf.compat.v1.Session instead.\n",
            "\n",
            "WARNING:tensorflow:From /usr/local/lib/python3.7/dist-packages/stable_baselines/common/policies.py:116: The name tf.variable_scope is deprecated. Please use tf.compat.v1.variable_scope instead.\n",
            "\n",
            "WARNING:tensorflow:From /usr/local/lib/python3.7/dist-packages/stable_baselines/common/input.py:25: The name tf.placeholder is deprecated. Please use tf.compat.v1.placeholder instead.\n",
            "\n",
            "WARNING:tensorflow:From /usr/local/lib/python3.7/dist-packages/stable_baselines/common/policies.py:420: flatten (from tensorflow.python.layers.core) is deprecated and will be removed in a future version.\n",
            "Instructions for updating:\n",
            "Use keras.layers.flatten instead.\n",
            "WARNING:tensorflow:From /usr/local/lib/python3.7/dist-packages/tensorflow_core/python/layers/core.py:332: Layer.apply (from tensorflow.python.keras.engine.base_layer) is deprecated and will be removed in a future version.\n",
            "Instructions for updating:\n",
            "Please use `layer.__call__` method instead.\n",
            "WARNING:tensorflow:From /usr/local/lib/python3.7/dist-packages/stable_baselines/common/tf_layers.py:123: The name tf.get_variable is deprecated. Please use tf.compat.v1.get_variable instead.\n",
            "\n",
            "WARNING:tensorflow:From /usr/local/lib/python3.7/dist-packages/stable_baselines/common/distributions.py:326: The name tf.random_uniform is deprecated. Please use tf.random.uniform instead.\n",
            "\n",
            "WARNING:tensorflow:From /usr/local/lib/python3.7/dist-packages/stable_baselines/common/distributions.py:327: The name tf.log is deprecated. Please use tf.math.log instead.\n",
            "\n",
            "WARNING:tensorflow:From /usr/local/lib/python3.7/dist-packages/stable_baselines/a2c/a2c.py:160: The name tf.summary.scalar is deprecated. Please use tf.compat.v1.summary.scalar instead.\n",
            "\n",
            "WARNING:tensorflow:From /usr/local/lib/python3.7/dist-packages/stable_baselines/common/tf_util.py:449: The name tf.get_collection is deprecated. Please use tf.compat.v1.get_collection instead.\n",
            "\n",
            "WARNING:tensorflow:From /usr/local/lib/python3.7/dist-packages/stable_baselines/common/tf_util.py:449: The name tf.GraphKeys is deprecated. Please use tf.compat.v1.GraphKeys instead.\n",
            "\n",
            "WARNING:tensorflow:From /usr/local/lib/python3.7/dist-packages/tensorflow_core/python/ops/clip_ops.py:301: where (from tensorflow.python.ops.array_ops) is deprecated and will be removed in a future version.\n",
            "Instructions for updating:\n",
            "Use tf.where in 2.0, which has the same broadcast rule as np.where\n",
            "WARNING:tensorflow:From /usr/local/lib/python3.7/dist-packages/stable_baselines/a2c/a2c.py:184: The name tf.train.RMSPropOptimizer is deprecated. Please use tf.compat.v1.train.RMSPropOptimizer instead.\n",
            "\n",
            "WARNING:tensorflow:From /usr/local/lib/python3.7/dist-packages/tensorflow_core/python/training/rmsprop.py:119: calling Ones.__init__ (from tensorflow.python.ops.init_ops) with dtype is deprecated and will be removed in a future version.\n",
            "Instructions for updating:\n",
            "Call initializer instance with the dtype argument instead of passing it to the constructor\n",
            "WARNING:tensorflow:From /usr/local/lib/python3.7/dist-packages/stable_baselines/a2c/a2c.py:194: The name tf.global_variables_initializer is deprecated. Please use tf.compat.v1.global_variables_initializer instead.\n",
            "\n",
            "WARNING:tensorflow:From /usr/local/lib/python3.7/dist-packages/stable_baselines/a2c/a2c.py:196: The name tf.summary.merge_all is deprecated. Please use tf.compat.v1.summary.merge_all instead.\n",
            "\n",
            "---------------------------------\n",
            "| explained_variance | -0.322   |\n",
            "| fps                | 5        |\n",
            "| nupdates           | 1        |\n",
            "| policy_entropy     | 0.693    |\n",
            "| total_timesteps    | 5        |\n",
            "| value_loss         | 1.12e-09 |\n",
            "---------------------------------\n",
            "---------------------------------\n",
            "| explained_variance | nan      |\n",
            "| fps                | 234      |\n",
            "| nupdates           | 100      |\n",
            "| policy_entropy     | nan      |\n",
            "| total_timesteps    | 500      |\n",
            "| value_loss         | nan      |\n",
            "---------------------------------\n",
            "---------------------------------\n",
            "| explained_variance | nan      |\n",
            "| fps                | 285      |\n",
            "| nupdates           | 200      |\n",
            "| policy_entropy     | nan      |\n",
            "| total_timesteps    | 1000     |\n",
            "| value_loss         | nan      |\n",
            "---------------------------------\n"
          ],
          "name": "stdout"
        },
        {
          "output_type": "execute_result",
          "data": {
            "text/plain": [
              "<stable_baselines.a2c.a2c.A2C at 0x7f40258025d0>"
            ]
          },
          "metadata": {
            "tags": []
          },
          "execution_count": 13
        }
      ]
    },
    {
      "cell_type": "code",
      "metadata": {
        "colab": {
          "base_uri": "https://localhost:8080/"
        },
        "id": "riInLwHh4j1w",
        "outputId": "f43a6f67-89ab-4999-b898-506dc0a687a5"
      },
      "source": [
        "#Setting up the Agent Environment\n",
        "env = gym.make('stocks-v0', df=df, frame_bound=(90,110), window_size=5)\n",
        "obs = env.reset()\n",
        "while True: \n",
        "    obs = obs[np.newaxis, ...]\n",
        "    action, _states = model.predict(obs)\n",
        "    obs, rewards, done, info = env.step(action)\n",
        "    if done:\n",
        "        print(\"info\", info)\n",
        "        break"
      ],
      "execution_count": 14,
      "outputs": [
        {
          "output_type": "stream",
          "text": [
            "info {'total_reward': 0.0, 'total_profit': 1.0, 'position': 0}\n"
          ],
          "name": "stdout"
        }
      ]
    },
    {
      "cell_type": "code",
      "metadata": {
        "colab": {
          "base_uri": "https://localhost:8080/",
          "height": 404
        },
        "id": "IeuEY0Ie4jza",
        "outputId": "c3e56e6c-884f-4618-ab49-b8ce282e199d"
      },
      "source": [
        "#Plotting our Model for Trained Trades\n",
        "plt.figure(figsize=(15,6))\n",
        "plt.cla()\n",
        "env.render_all()\n",
        "plt.show()"
      ],
      "execution_count": 15,
      "outputs": [
        {
          "output_type": "display_data",
          "data": {
            "image/png": "[encoded data removed]",
            "text/plain": [
              "<Figure size 1080x432 with 1 Axes>"
            ]
          },
          "metadata": {
            "tags": [],
            "needs_background": "light"
          }
        }
      ]
    }
  ]
}